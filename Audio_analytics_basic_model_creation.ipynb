{
  "nbformat": 4,
  "nbformat_minor": 0,
  "metadata": {
    "colab": {
      "name": "Audio analytics - basic model creation.ipynb",
      "provenance": [],
      "collapsed_sections": []
    },
    "kernelspec": {
      "name": "python3",
      "display_name": "Python 3"
    }
  },
  "cells": [
    {
      "cell_type": "code",
      "metadata": {
        "id": "Gyw3QqOgOCap"
      },
      "source": [
        ""
      ],
      "execution_count": null,
      "outputs": []
    },
    {
      "cell_type": "markdown",
      "metadata": {
        "id": "tsbK6NcDHZwX"
      },
      "source": [
        "# Using an MLP for classification"
      ]
    },
    {
      "cell_type": "code",
      "metadata": {
        "id": "5GaeVmzZ14wx"
      },
      "source": [
        "def load_data(json_path):\n",
        "  with open(json_path,\"r\") as fp:\n",
        "    data = json.load(fp)\n",
        "\n",
        "  #convert lists into numpy arrays\n",
        "  inputs = np.array(data[\"mfcc\"])\n",
        "  targets = np.array(data[\"labels\"])\n",
        "\n",
        "  return inputs,targets"
      ],
      "execution_count": null,
      "outputs": []
    },
    {
      "cell_type": "code",
      "metadata": {
        "id": "0hpvOV0gIGIm"
      },
      "source": [
        "X,y = load_data(json_path)"
      ],
      "execution_count": null,
      "outputs": []
    },
    {
      "cell_type": "code",
      "metadata": {
        "id": "6taVvfjJIJ-S",
        "outputId": "c9f1aca7-72a6-46bd-8482-c4ee51fcc13b",
        "colab": {
          "base_uri": "https://localhost:8080/"
        }
      },
      "source": [
        "X"
      ],
      "execution_count": null,
      "outputs": [
        {
          "output_type": "execute_result",
          "data": {
            "text/plain": [
              "array([[[-2.12685546e+02,  1.00718600e+02, -1.23222813e+01, ...,\n",
              "         -3.59266860e+00, -1.15427554e+00, -3.71990146e+00],\n",
              "        [-2.10629281e+02,  1.03621303e+02, -1.16983593e+01, ...,\n",
              "         -5.39652393e+00,  2.20071144e+00, -3.11685376e+00],\n",
              "        [-1.95409321e+02,  1.04360651e+02, -1.85502341e-01, ...,\n",
              "         -1.08171604e+01, -5.88807127e-01, -5.28410592e+00],\n",
              "        ...,\n",
              "        [-1.24157705e+02,  6.37352227e+01,  2.11729392e+01, ...,\n",
              "         -1.65676625e+01,  1.37965153e+01, -2.31835349e+01],\n",
              "        [-1.10560174e+02,  6.07024768e+01,  1.09157347e+00, ...,\n",
              "         -1.29631778e+01,  1.39237288e+01, -1.62484843e+01],\n",
              "        [-1.14273381e+02,  6.70723188e+01, -1.14650597e+01, ...,\n",
              "         -9.90297501e+00,  1.22151307e+01, -9.50313534e+00]],\n",
              "\n",
              "       [[-1.47248482e+02,  8.85711779e+01, -1.53050513e+01, ...,\n",
              "         -1.19021387e+01,  6.63293296e+00, -8.55171762e+00],\n",
              "        [-1.51392527e+02,  9.47541037e+01, -2.00325920e+01, ...,\n",
              "         -9.10243162e+00,  9.11345492e+00, -9.89097351e+00],\n",
              "        [-1.64260017e+02,  9.80545471e+01, -2.59105634e+01, ...,\n",
              "         -6.87140691e+00,  1.37144987e+01, -7.40781507e+00],\n",
              "        ...,\n",
              "        [-1.92144114e+02,  1.12161603e+02, -1.85086123e+01, ...,\n",
              "         -5.79698072e+00,  1.01001547e+01, -5.63120565e+00],\n",
              "        [-1.37997371e+02,  1.23592884e+02, -1.15575185e+01, ...,\n",
              "         -1.13619942e+01,  1.45600592e+01, -4.12580203e+00],\n",
              "        [-1.07487915e+02,  1.27236901e+02, -6.69688764e+00, ...,\n",
              "         -1.86841734e+01,  1.58008682e+01, -5.29635852e+00]],\n",
              "\n",
              "       [[-1.01021482e+02,  1.11379149e+02, -1.02900054e+01, ...,\n",
              "         -3.93023818e+00,  1.14448869e+01,  1.66817802e+00],\n",
              "        [-1.17334080e+02,  1.16911926e+02, -1.15952806e+01, ...,\n",
              "         -6.73055306e+00,  1.05491461e+01, -1.31043435e+00],\n",
              "        [-1.50047840e+02,  1.24548142e+02, -6.92227013e+00, ...,\n",
              "         -1.00242706e+01,  7.37714541e+00, -6.65175229e+00],\n",
              "        ...,\n",
              "        [-8.82240574e+01,  1.35415101e+02, -1.79079960e+01, ...,\n",
              "         -1.87740770e+01,  1.43474977e+01,  5.09636996e+00],\n",
              "        [-9.94560088e+01,  1.39311340e+02, -1.72213372e+01, ...,\n",
              "         -1.88138877e+01,  6.38948862e+00,  7.28200185e+00],\n",
              "        [-9.06028959e+01,  1.48627326e+02, -1.12638697e+01, ...,\n",
              "         -1.36308594e+01,  2.77127291e-01,  1.48794452e+01]],\n",
              "\n",
              "       ...,\n",
              "\n",
              "       [[-2.61357204e+02,  1.78098216e+02, -3.51798747e+01, ...,\n",
              "          8.39411761e+00,  8.43455524e-01, -1.25963937e+00],\n",
              "        [-2.68382703e+02,  1.64703595e+02, -2.68212101e+01, ...,\n",
              "          7.19374308e+00,  4.20974279e+00, -5.05465405e+00],\n",
              "        [-2.73322086e+02,  1.37972671e+02, -2.20080277e+01, ...,\n",
              "          5.61574853e+00,  9.69366275e+00, -1.11849748e+01],\n",
              "        ...,\n",
              "        [-8.95553567e+01,  8.07782604e+01, -4.45873370e+01, ...,\n",
              "         -2.41418990e+01,  9.92210108e+00, -1.63396635e+01],\n",
              "        [-6.91823118e+01,  8.40170762e+01, -4.09303091e+01, ...,\n",
              "         -1.39801895e+01,  4.33502588e+00, -1.37873400e+01],\n",
              "        [-7.52243051e+01,  8.23233592e+01, -3.56365998e+01, ...,\n",
              "         -2.75734150e+00, -8.57926579e-01, -7.47333031e+00]],\n",
              "\n",
              "       [[-9.43648899e+01,  9.43155892e+01, -4.93952717e+01, ...,\n",
              "         -1.45578691e+01,  2.14437821e+00, -1.80597571e+01],\n",
              "        [-9.51782249e+01,  9.82110098e+01, -5.17059086e+01, ...,\n",
              "         -1.63069723e+01,  8.86088587e+00, -1.68783223e+01],\n",
              "        [-1.00717607e+02,  9.49095444e+01, -4.96056247e+01, ...,\n",
              "         -1.27359840e+01,  1.28840002e+01, -1.75166976e+01],\n",
              "        ...,\n",
              "        [-2.36689162e+02,  1.59329294e+02, -1.59213931e+01, ...,\n",
              "          5.37750301e+00,  9.44522491e+00, -1.17972324e+01],\n",
              "        [-2.33245650e+02,  1.60242392e+02, -9.13688617e+00, ...,\n",
              "          6.79618377e+00,  1.34433403e+01, -1.03903952e+01],\n",
              "        [-2.26921232e+02,  1.57412718e+02, -1.89936046e+00, ...,\n",
              "          4.73119976e+00,  8.66473891e+00, -4.34621836e+00]],\n",
              "\n",
              "       [[-2.26804101e+02,  1.54233768e+02,  3.36577754e-01, ...,\n",
              "          8.08505323e+00,  1.60257098e+01,  6.26001214e+00],\n",
              "        [-2.38899489e+02,  1.55423657e+02, -3.84491009e+00, ...,\n",
              "          8.24413275e+00,  1.52002833e+01,  9.70457788e-01],\n",
              "        [-2.54498504e+02,  1.51975463e+02, -1.59110460e+01, ...,\n",
              "          1.74661979e+00,  1.52043088e+01, -1.12185403e+01],\n",
              "        ...,\n",
              "        [-2.08708027e+02,  9.52822336e+01, -2.66111495e+01, ...,\n",
              "          3.32277593e+00,  2.81873131e+01, -9.65376239e+00],\n",
              "        [-2.01142035e+02,  9.05749565e+01, -2.70253677e+01, ...,\n",
              "          7.93593129e+00,  2.40611008e+01, -9.40002042e+00],\n",
              "        [-1.88527759e+02,  8.68619357e+01, -2.48700205e+01, ...,\n",
              "          1.37663244e+01,  2.02165389e+01, -9.65754612e+00]]])"
            ]
          },
          "metadata": {
            "tags": []
          },
          "execution_count": 37
        }
      ]
    },
    {
      "cell_type": "code",
      "metadata": {
        "id": "0zHGu2G3IPUt",
        "outputId": "0bbaa105-0790-4e42-c4c0-0f5c04228f05",
        "colab": {
          "base_uri": "https://localhost:8080/"
        }
      },
      "source": [
        "y"
      ],
      "execution_count": null,
      "outputs": [
        {
          "output_type": "execute_result",
          "data": {
            "text/plain": [
              "array([0, 0, 0, ..., 9, 9, 9])"
            ]
          },
          "metadata": {
            "tags": []
          },
          "execution_count": 41
        }
      ]
    },
    {
      "cell_type": "markdown",
      "metadata": {
        "id": "wfUEppbzI89_"
      },
      "source": [
        "Now that we have the X and y for our classification, we'll divide it into train and test using sklearn"
      ]
    },
    {
      "cell_type": "code",
      "metadata": {
        "id": "dFD87uMXIsW_"
      },
      "source": [
        "from sklearn.model_selection import train_test_split\n",
        "\n",
        "X_train,X_test,y_train,y_test = train_test_split(X,y,test_size = 0.33)"
      ],
      "execution_count": null,
      "outputs": []
    },
    {
      "cell_type": "code",
      "metadata": {
        "id": "rGmMK1rCJb7u",
        "outputId": "8739f783-096a-41fe-a405-cd0d12f2b09b",
        "colab": {
          "base_uri": "https://localhost:8080/"
        }
      },
      "source": [
        "X_train.shape"
      ],
      "execution_count": null,
      "outputs": [
        {
          "output_type": "execute_result",
          "data": {
            "text/plain": [
              "(6697, 130, 13)"
            ]
          },
          "metadata": {
            "tags": []
          },
          "execution_count": 44
        }
      ]
    },
    {
      "cell_type": "markdown",
      "metadata": {
        "id": "XztK6d-uJis6"
      },
      "source": [
        "And we are done with creating the dataset.\n",
        "\n",
        "let's build a model with keras"
      ]
    },
    {
      "cell_type": "code",
      "metadata": {
        "id": "W2Mo0u7uJdI9"
      },
      "source": [
        "from tensorflow.keras import Sequential,layers\n",
        "\n",
        "model = Sequential()"
      ],
      "execution_count": null,
      "outputs": []
    },
    {
      "cell_type": "code",
      "metadata": {
        "id": "S8TlMVUpKYd0"
      },
      "source": [
        "#input layer\n",
        "model.add(layers.Flatten(input_shape = (X.shape[1],X.shape[2])))\n",
        "\n",
        "#1st hidden layer\n",
        "model.add(layers.Dense(512,activation=\"relu\"))\n",
        "\n",
        "#2nd hidden layer\n",
        "model.add(layers.Dense(256,activation=\"relu\"))\n",
        "\n",
        "#3rd hidden layer\n",
        "model.add(layers.Dense(64,activation=\"relu\"))\n",
        "\n",
        "model.add(layers.Dense(10,activation=\"softmax\")) #10 categories"
      ],
      "execution_count": null,
      "outputs": []
    },
    {
      "cell_type": "code",
      "metadata": {
        "id": "xuyhCKJNKfie"
      },
      "source": [
        "#Let's build the network\n",
        "from keras.optimizers import Adam\n",
        "\n",
        "optimizer = Adam(learning_rate=0.0001)\n",
        "model.compile(optimizer = optimizer,\n",
        "              loss = \"sparse_categorical_crossentropy\",\n",
        "              metrics = [\"accuracy\"])"
      ],
      "execution_count": null,
      "outputs": []
    },
    {
      "cell_type": "code",
      "metadata": {
        "id": "bGzi9BUvKzyC",
        "outputId": "3182e516-a67e-4ee4-ddfe-699cdc7adc82",
        "colab": {
          "base_uri": "https://localhost:8080/"
        }
      },
      "source": [
        "model.summary()"
      ],
      "execution_count": null,
      "outputs": [
        {
          "output_type": "stream",
          "text": [
            "Model: \"sequential\"\n",
            "_________________________________________________________________\n",
            "Layer (type)                 Output Shape              Param #   \n",
            "=================================================================\n",
            "flatten (Flatten)            (None, 1690)              0         \n",
            "_________________________________________________________________\n",
            "dense (Dense)                (None, 512)               865792    \n",
            "_________________________________________________________________\n",
            "dense_1 (Dense)              (None, 256)               131328    \n",
            "_________________________________________________________________\n",
            "dense_2 (Dense)              (None, 64)                16448     \n",
            "_________________________________________________________________\n",
            "dense_3 (Dense)              (None, 10)                650       \n",
            "=================================================================\n",
            "Total params: 1,014,218\n",
            "Trainable params: 1,014,218\n",
            "Non-trainable params: 0\n",
            "_________________________________________________________________\n"
          ],
          "name": "stdout"
        }
      ]
    },
    {
      "cell_type": "markdown",
      "metadata": {
        "id": "4VRVSmpnMZm_"
      },
      "source": [
        "Let's train the network"
      ]
    },
    {
      "cell_type": "code",
      "metadata": {
        "id": "NbPsZJsQMWVq",
        "outputId": "201e63e2-2885-44af-b5a1-0944a70b7c15",
        "colab": {
          "base_uri": "https://localhost:8080/"
        }
      },
      "source": [
        "model.fit(X_train,y_train,\n",
        "          validation_data=(X_test,y_test),\n",
        "          epochs = 50,\n",
        "          batch_size=32)"
      ],
      "execution_count": null,
      "outputs": [
        {
          "output_type": "stream",
          "text": [
            "Epoch 1/50\n",
            "210/210 [==============================] - 3s 12ms/step - loss: 8.4355 - accuracy: 0.2800 - val_loss: 2.3317 - val_accuracy: 0.2019\n",
            "Epoch 2/50\n",
            "210/210 [==============================] - 2s 11ms/step - loss: 2.0895 - accuracy: 0.2465 - val_loss: 2.0790 - val_accuracy: 0.2828\n",
            "Epoch 3/50\n",
            "210/210 [==============================] - 2s 11ms/step - loss: 1.8797 - accuracy: 0.3339 - val_loss: 1.9951 - val_accuracy: 0.3407\n",
            "Epoch 4/50\n",
            "210/210 [==============================] - 2s 11ms/step - loss: 1.8021 - accuracy: 0.3545 - val_loss: 1.9267 - val_accuracy: 0.3253\n",
            "Epoch 5/50\n",
            "210/210 [==============================] - 2s 11ms/step - loss: 1.6795 - accuracy: 0.3872 - val_loss: 1.9012 - val_accuracy: 0.3528\n",
            "Epoch 6/50\n",
            "210/210 [==============================] - 2s 11ms/step - loss: 1.5892 - accuracy: 0.4269 - val_loss: 1.9304 - val_accuracy: 0.3146\n",
            "Epoch 7/50\n",
            "210/210 [==============================] - 2s 11ms/step - loss: 1.5334 - accuracy: 0.4589 - val_loss: 1.8630 - val_accuracy: 0.4210\n",
            "Epoch 8/50\n",
            "210/210 [==============================] - 2s 11ms/step - loss: 1.4714 - accuracy: 0.4975 - val_loss: 1.9304 - val_accuracy: 0.4177\n",
            "Epoch 9/50\n",
            "210/210 [==============================] - 2s 11ms/step - loss: 1.4253 - accuracy: 0.5046 - val_loss: 1.8119 - val_accuracy: 0.4326\n",
            "Epoch 10/50\n",
            "210/210 [==============================] - 2s 11ms/step - loss: 1.3573 - accuracy: 0.5265 - val_loss: 1.7894 - val_accuracy: 0.4307\n",
            "Epoch 11/50\n",
            "210/210 [==============================] - 2s 11ms/step - loss: 1.2867 - accuracy: 0.5440 - val_loss: 1.8356 - val_accuracy: 0.4295\n",
            "Epoch 12/50\n",
            "210/210 [==============================] - 2s 11ms/step - loss: 1.2581 - accuracy: 0.5502 - val_loss: 1.7386 - val_accuracy: 0.4780\n",
            "Epoch 13/50\n",
            "210/210 [==============================] - 2s 11ms/step - loss: 1.1972 - accuracy: 0.5737 - val_loss: 1.8492 - val_accuracy: 0.4222\n",
            "Epoch 14/50\n",
            "210/210 [==============================] - 2s 10ms/step - loss: 1.1494 - accuracy: 0.5859 - val_loss: 1.7515 - val_accuracy: 0.4553\n",
            "Epoch 15/50\n",
            "210/210 [==============================] - 2s 11ms/step - loss: 1.0738 - accuracy: 0.6092 - val_loss: 1.8140 - val_accuracy: 0.4838\n",
            "Epoch 16/50\n",
            "210/210 [==============================] - 2s 11ms/step - loss: 0.9967 - accuracy: 0.6298 - val_loss: 1.7865 - val_accuracy: 0.5017\n",
            "Epoch 17/50\n",
            "210/210 [==============================] - 2s 11ms/step - loss: 0.9800 - accuracy: 0.6428 - val_loss: 1.7538 - val_accuracy: 0.4644\n",
            "Epoch 18/50\n",
            "210/210 [==============================] - 2s 11ms/step - loss: 0.9392 - accuracy: 0.6534 - val_loss: 1.8491 - val_accuracy: 0.4959\n",
            "Epoch 19/50\n",
            "210/210 [==============================] - 2s 11ms/step - loss: 0.8774 - accuracy: 0.6769 - val_loss: 1.8609 - val_accuracy: 0.4814\n",
            "Epoch 20/50\n",
            "210/210 [==============================] - 2s 11ms/step - loss: 0.8373 - accuracy: 0.6906 - val_loss: 1.8795 - val_accuracy: 0.5138\n",
            "Epoch 21/50\n",
            "210/210 [==============================] - 2s 11ms/step - loss: 0.7851 - accuracy: 0.7084 - val_loss: 1.8139 - val_accuracy: 0.5092\n",
            "Epoch 22/50\n",
            "210/210 [==============================] - 2s 11ms/step - loss: 0.7870 - accuracy: 0.7064 - val_loss: 1.6909 - val_accuracy: 0.5250\n",
            "Epoch 23/50\n",
            "210/210 [==============================] - 2s 11ms/step - loss: 0.7279 - accuracy: 0.7260 - val_loss: 1.7919 - val_accuracy: 0.5289\n",
            "Epoch 24/50\n",
            "210/210 [==============================] - 2s 11ms/step - loss: 0.7187 - accuracy: 0.7287 - val_loss: 2.0080 - val_accuracy: 0.5220\n",
            "Epoch 25/50\n",
            "210/210 [==============================] - 2s 11ms/step - loss: 0.6734 - accuracy: 0.7457 - val_loss: 1.7667 - val_accuracy: 0.5359\n",
            "Epoch 26/50\n",
            "210/210 [==============================] - 2s 11ms/step - loss: 0.6594 - accuracy: 0.7506 - val_loss: 1.8582 - val_accuracy: 0.4892\n",
            "Epoch 27/50\n",
            "210/210 [==============================] - 2s 10ms/step - loss: 0.6128 - accuracy: 0.7639 - val_loss: 1.7596 - val_accuracy: 0.5429\n",
            "Epoch 28/50\n",
            "210/210 [==============================] - 2s 11ms/step - loss: 0.5780 - accuracy: 0.7792 - val_loss: 1.7236 - val_accuracy: 0.5499\n",
            "Epoch 29/50\n",
            "210/210 [==============================] - 2s 11ms/step - loss: 0.5295 - accuracy: 0.7978 - val_loss: 2.0266 - val_accuracy: 0.5556\n",
            "Epoch 30/50\n",
            "210/210 [==============================] - 2s 11ms/step - loss: 0.5067 - accuracy: 0.8032 - val_loss: 1.9079 - val_accuracy: 0.5641\n",
            "Epoch 31/50\n",
            "210/210 [==============================] - 2s 12ms/step - loss: 0.4784 - accuracy: 0.8204 - val_loss: 1.9735 - val_accuracy: 0.5538\n",
            "Epoch 32/50\n",
            "210/210 [==============================] - 2s 11ms/step - loss: 0.5150 - accuracy: 0.8142 - val_loss: 1.8960 - val_accuracy: 0.5487\n",
            "Epoch 33/50\n",
            "210/210 [==============================] - 2s 11ms/step - loss: 0.4400 - accuracy: 0.8349 - val_loss: 2.1343 - val_accuracy: 0.5471\n",
            "Epoch 34/50\n",
            "210/210 [==============================] - 2s 11ms/step - loss: 0.4428 - accuracy: 0.8353 - val_loss: 1.9169 - val_accuracy: 0.5626\n",
            "Epoch 35/50\n",
            "210/210 [==============================] - 2s 11ms/step - loss: 0.4010 - accuracy: 0.8529 - val_loss: 1.8976 - val_accuracy: 0.5638\n",
            "Epoch 36/50\n",
            "210/210 [==============================] - 2s 11ms/step - loss: 0.3722 - accuracy: 0.8555 - val_loss: 2.0916 - val_accuracy: 0.5687\n",
            "Epoch 37/50\n",
            "210/210 [==============================] - 2s 11ms/step - loss: 0.3701 - accuracy: 0.8644 - val_loss: 2.0787 - val_accuracy: 0.5717\n",
            "Epoch 38/50\n",
            "210/210 [==============================] - 2s 11ms/step - loss: 0.3223 - accuracy: 0.8807 - val_loss: 2.2344 - val_accuracy: 0.5717\n",
            "Epoch 39/50\n",
            "210/210 [==============================] - 2s 11ms/step - loss: 0.3383 - accuracy: 0.8793 - val_loss: 2.0662 - val_accuracy: 0.5580\n",
            "Epoch 40/50\n",
            "210/210 [==============================] - 2s 11ms/step - loss: 0.3249 - accuracy: 0.8796 - val_loss: 2.0415 - val_accuracy: 0.5726\n",
            "Epoch 41/50\n",
            "210/210 [==============================] - 2s 11ms/step - loss: 0.3044 - accuracy: 0.8831 - val_loss: 2.0889 - val_accuracy: 0.5884\n",
            "Epoch 42/50\n",
            "210/210 [==============================] - 2s 11ms/step - loss: 0.2671 - accuracy: 0.8971 - val_loss: 2.3824 - val_accuracy: 0.5768\n",
            "Epoch 43/50\n",
            "210/210 [==============================] - 2s 11ms/step - loss: 0.2694 - accuracy: 0.8964 - val_loss: 2.2845 - val_accuracy: 0.5687\n",
            "Epoch 44/50\n",
            "210/210 [==============================] - 2s 11ms/step - loss: 0.3097 - accuracy: 0.8856 - val_loss: 2.1661 - val_accuracy: 0.5793\n",
            "Epoch 45/50\n",
            "210/210 [==============================] - 2s 11ms/step - loss: 0.2393 - accuracy: 0.9104 - val_loss: 2.1603 - val_accuracy: 0.5835\n",
            "Epoch 46/50\n",
            "210/210 [==============================] - 2s 12ms/step - loss: 0.2258 - accuracy: 0.9173 - val_loss: 2.3580 - val_accuracy: 0.5902\n",
            "Epoch 47/50\n",
            "210/210 [==============================] - 3s 12ms/step - loss: 0.2114 - accuracy: 0.9238 - val_loss: 2.2596 - val_accuracy: 0.5944\n",
            "Epoch 48/50\n",
            "210/210 [==============================] - 2s 11ms/step - loss: 0.2152 - accuracy: 0.9209 - val_loss: 2.2295 - val_accuracy: 0.6026\n",
            "Epoch 49/50\n",
            "210/210 [==============================] - 2s 11ms/step - loss: 0.1984 - accuracy: 0.9273 - val_loss: 2.2175 - val_accuracy: 0.6047\n",
            "Epoch 50/50\n",
            "210/210 [==============================] - 2s 11ms/step - loss: 0.2067 - accuracy: 0.9244 - val_loss: 2.3878 - val_accuracy: 0.5911\n"
          ],
          "name": "stdout"
        },
        {
          "output_type": "execute_result",
          "data": {
            "text/plain": [
              "<tensorflow.python.keras.callbacks.History at 0x7f4f2cdfc5c0>"
            ]
          },
          "metadata": {
            "tags": []
          },
          "execution_count": 52
        }
      ]
    },
    {
      "cell_type": "markdown",
      "metadata": {
        "id": "knsLUux7Ns9z"
      },
      "source": [
        "If we compare the train accuracy vs test accuracy, then we observe that the model is overfitting. So we'll do some regularization or dropout to fix that."
      ]
    },
    {
      "cell_type": "code",
      "metadata": {
        "id": "fp16V6TXNIQg"
      },
      "source": [
        ""
      ],
      "execution_count": null,
      "outputs": []
    }
  ]
}