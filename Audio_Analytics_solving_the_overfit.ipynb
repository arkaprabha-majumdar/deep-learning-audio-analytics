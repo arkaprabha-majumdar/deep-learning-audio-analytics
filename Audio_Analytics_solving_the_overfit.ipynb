{
  "nbformat": 4,
  "nbformat_minor": 0,
  "metadata": {
    "colab": {
      "name": "Audio Analytics - solving the overfit.ipynb",
      "provenance": []
    },
    "kernelspec": {
      "name": "python3",
      "display_name": "Python 3"
    }
  },
  "cells": [
    {
      "cell_type": "markdown",
      "metadata": {
        "id": "tsbK6NcDHZwX"
      },
      "source": [
        "# Using an MLP for classification"
      ]
    },
    {
      "cell_type": "code",
      "metadata": {
        "id": "5GaeVmzZ14wx"
      },
      "source": [
        "def load_data(json_path):\n",
        "  with open(json_path,\"r\") as fp:\n",
        "    data = json.load(fp)\n",
        "\n",
        "  #convert lists into numpy arrays\n",
        "  inputs = np.array(data[\"mfcc\"])\n",
        "  targets = np.array(data[\"labels\"])\n",
        "\n",
        "  return inputs,targets"
      ],
      "execution_count": null,
      "outputs": []
    },
    {
      "cell_type": "code",
      "metadata": {
        "id": "0hpvOV0gIGIm"
      },
      "source": [
        "X,y = load_data(json_path)"
      ],
      "execution_count": null,
      "outputs": []
    },
    {
      "cell_type": "code",
      "metadata": {
        "id": "6taVvfjJIJ-S",
        "outputId": "c9f1aca7-72a6-46bd-8482-c4ee51fcc13b",
        "colab": {
          "base_uri": "https://localhost:8080/"
        }
      },
      "source": [
        "X"
      ],
      "execution_count": null,
      "outputs": [
        {
          "output_type": "execute_result",
          "data": {
            "text/plain": [
              "array([[[-2.12685546e+02,  1.00718600e+02, -1.23222813e+01, ...,\n",
              "         -3.59266860e+00, -1.15427554e+00, -3.71990146e+00],\n",
              "        [-2.10629281e+02,  1.03621303e+02, -1.16983593e+01, ...,\n",
              "         -5.39652393e+00,  2.20071144e+00, -3.11685376e+00],\n",
              "        [-1.95409321e+02,  1.04360651e+02, -1.85502341e-01, ...,\n",
              "         -1.08171604e+01, -5.88807127e-01, -5.28410592e+00],\n",
              "        ...,\n",
              "        [-1.24157705e+02,  6.37352227e+01,  2.11729392e+01, ...,\n",
              "         -1.65676625e+01,  1.37965153e+01, -2.31835349e+01],\n",
              "        [-1.10560174e+02,  6.07024768e+01,  1.09157347e+00, ...,\n",
              "         -1.29631778e+01,  1.39237288e+01, -1.62484843e+01],\n",
              "        [-1.14273381e+02,  6.70723188e+01, -1.14650597e+01, ...,\n",
              "         -9.90297501e+00,  1.22151307e+01, -9.50313534e+00]],\n",
              "\n",
              "       [[-1.47248482e+02,  8.85711779e+01, -1.53050513e+01, ...,\n",
              "         -1.19021387e+01,  6.63293296e+00, -8.55171762e+00],\n",
              "        [-1.51392527e+02,  9.47541037e+01, -2.00325920e+01, ...,\n",
              "         -9.10243162e+00,  9.11345492e+00, -9.89097351e+00],\n",
              "        [-1.64260017e+02,  9.80545471e+01, -2.59105634e+01, ...,\n",
              "         -6.87140691e+00,  1.37144987e+01, -7.40781507e+00],\n",
              "        ...,\n",
              "        [-1.92144114e+02,  1.12161603e+02, -1.85086123e+01, ...,\n",
              "         -5.79698072e+00,  1.01001547e+01, -5.63120565e+00],\n",
              "        [-1.37997371e+02,  1.23592884e+02, -1.15575185e+01, ...,\n",
              "         -1.13619942e+01,  1.45600592e+01, -4.12580203e+00],\n",
              "        [-1.07487915e+02,  1.27236901e+02, -6.69688764e+00, ...,\n",
              "         -1.86841734e+01,  1.58008682e+01, -5.29635852e+00]],\n",
              "\n",
              "       [[-1.01021482e+02,  1.11379149e+02, -1.02900054e+01, ...,\n",
              "         -3.93023818e+00,  1.14448869e+01,  1.66817802e+00],\n",
              "        [-1.17334080e+02,  1.16911926e+02, -1.15952806e+01, ...,\n",
              "         -6.73055306e+00,  1.05491461e+01, -1.31043435e+00],\n",
              "        [-1.50047840e+02,  1.24548142e+02, -6.92227013e+00, ...,\n",
              "         -1.00242706e+01,  7.37714541e+00, -6.65175229e+00],\n",
              "        ...,\n",
              "        [-8.82240574e+01,  1.35415101e+02, -1.79079960e+01, ...,\n",
              "         -1.87740770e+01,  1.43474977e+01,  5.09636996e+00],\n",
              "        [-9.94560088e+01,  1.39311340e+02, -1.72213372e+01, ...,\n",
              "         -1.88138877e+01,  6.38948862e+00,  7.28200185e+00],\n",
              "        [-9.06028959e+01,  1.48627326e+02, -1.12638697e+01, ...,\n",
              "         -1.36308594e+01,  2.77127291e-01,  1.48794452e+01]],\n",
              "\n",
              "       ...,\n",
              "\n",
              "       [[-2.61357204e+02,  1.78098216e+02, -3.51798747e+01, ...,\n",
              "          8.39411761e+00,  8.43455524e-01, -1.25963937e+00],\n",
              "        [-2.68382703e+02,  1.64703595e+02, -2.68212101e+01, ...,\n",
              "          7.19374308e+00,  4.20974279e+00, -5.05465405e+00],\n",
              "        [-2.73322086e+02,  1.37972671e+02, -2.20080277e+01, ...,\n",
              "          5.61574853e+00,  9.69366275e+00, -1.11849748e+01],\n",
              "        ...,\n",
              "        [-8.95553567e+01,  8.07782604e+01, -4.45873370e+01, ...,\n",
              "         -2.41418990e+01,  9.92210108e+00, -1.63396635e+01],\n",
              "        [-6.91823118e+01,  8.40170762e+01, -4.09303091e+01, ...,\n",
              "         -1.39801895e+01,  4.33502588e+00, -1.37873400e+01],\n",
              "        [-7.52243051e+01,  8.23233592e+01, -3.56365998e+01, ...,\n",
              "         -2.75734150e+00, -8.57926579e-01, -7.47333031e+00]],\n",
              "\n",
              "       [[-9.43648899e+01,  9.43155892e+01, -4.93952717e+01, ...,\n",
              "         -1.45578691e+01,  2.14437821e+00, -1.80597571e+01],\n",
              "        [-9.51782249e+01,  9.82110098e+01, -5.17059086e+01, ...,\n",
              "         -1.63069723e+01,  8.86088587e+00, -1.68783223e+01],\n",
              "        [-1.00717607e+02,  9.49095444e+01, -4.96056247e+01, ...,\n",
              "         -1.27359840e+01,  1.28840002e+01, -1.75166976e+01],\n",
              "        ...,\n",
              "        [-2.36689162e+02,  1.59329294e+02, -1.59213931e+01, ...,\n",
              "          5.37750301e+00,  9.44522491e+00, -1.17972324e+01],\n",
              "        [-2.33245650e+02,  1.60242392e+02, -9.13688617e+00, ...,\n",
              "          6.79618377e+00,  1.34433403e+01, -1.03903952e+01],\n",
              "        [-2.26921232e+02,  1.57412718e+02, -1.89936046e+00, ...,\n",
              "          4.73119976e+00,  8.66473891e+00, -4.34621836e+00]],\n",
              "\n",
              "       [[-2.26804101e+02,  1.54233768e+02,  3.36577754e-01, ...,\n",
              "          8.08505323e+00,  1.60257098e+01,  6.26001214e+00],\n",
              "        [-2.38899489e+02,  1.55423657e+02, -3.84491009e+00, ...,\n",
              "          8.24413275e+00,  1.52002833e+01,  9.70457788e-01],\n",
              "        [-2.54498504e+02,  1.51975463e+02, -1.59110460e+01, ...,\n",
              "          1.74661979e+00,  1.52043088e+01, -1.12185403e+01],\n",
              "        ...,\n",
              "        [-2.08708027e+02,  9.52822336e+01, -2.66111495e+01, ...,\n",
              "          3.32277593e+00,  2.81873131e+01, -9.65376239e+00],\n",
              "        [-2.01142035e+02,  9.05749565e+01, -2.70253677e+01, ...,\n",
              "          7.93593129e+00,  2.40611008e+01, -9.40002042e+00],\n",
              "        [-1.88527759e+02,  8.68619357e+01, -2.48700205e+01, ...,\n",
              "          1.37663244e+01,  2.02165389e+01, -9.65754612e+00]]])"
            ]
          },
          "metadata": {
            "tags": []
          },
          "execution_count": 37
        }
      ]
    },
    {
      "cell_type": "code",
      "metadata": {
        "id": "0zHGu2G3IPUt",
        "outputId": "0bbaa105-0790-4e42-c4c0-0f5c04228f05",
        "colab": {
          "base_uri": "https://localhost:8080/"
        }
      },
      "source": [
        "y"
      ],
      "execution_count": null,
      "outputs": [
        {
          "output_type": "execute_result",
          "data": {
            "text/plain": [
              "array([0, 0, 0, ..., 9, 9, 9])"
            ]
          },
          "metadata": {
            "tags": []
          },
          "execution_count": 41
        }
      ]
    },
    {
      "cell_type": "markdown",
      "metadata": {
        "id": "wfUEppbzI89_"
      },
      "source": [
        "Now that we have the X and y for our classification, we'll divide it into train and test using sklearn"
      ]
    },
    {
      "cell_type": "code",
      "metadata": {
        "id": "dFD87uMXIsW_"
      },
      "source": [
        "from sklearn.model_selection import train_test_split\n",
        "\n",
        "X_train,X_test,y_train,y_test = train_test_split(X,y,test_size = 0.33)"
      ],
      "execution_count": null,
      "outputs": []
    },
    {
      "cell_type": "code",
      "metadata": {
        "id": "rGmMK1rCJb7u",
        "outputId": "8739f783-096a-41fe-a405-cd0d12f2b09b",
        "colab": {
          "base_uri": "https://localhost:8080/"
        }
      },
      "source": [
        "X_train.shape"
      ],
      "execution_count": null,
      "outputs": [
        {
          "output_type": "execute_result",
          "data": {
            "text/plain": [
              "(6697, 130, 13)"
            ]
          },
          "metadata": {
            "tags": []
          },
          "execution_count": 44
        }
      ]
    },
    {
      "cell_type": "markdown",
      "metadata": {
        "id": "XztK6d-uJis6"
      },
      "source": [
        "And we are done with creating the dataset.\n",
        "\n",
        "let's build a model with keras"
      ]
    },
    {
      "cell_type": "code",
      "metadata": {
        "id": "W2Mo0u7uJdI9"
      },
      "source": [
        "from tensorflow.keras import Sequential,layers\n",
        "from keras.regularizers import l2\n",
        "\n",
        "model = Sequential()"
      ],
      "execution_count": null,
      "outputs": []
    },
    {
      "cell_type": "code",
      "metadata": {
        "id": "S8TlMVUpKYd0"
      },
      "source": [
        "#input layer\n",
        "model.add(layers.Flatten(input_shape = (X.shape[1],X.shape[2])))\n",
        "\n",
        "#1st hidden layer\n",
        "model.add(layers.Dense(512,activation=\"relu\",kernel_regularizer = l2(.001)))\n",
        "model.add(layers.Dropout(0.3))\n",
        "\n",
        "#2nd hidden layer\n",
        "model.add(layers.Dense(256,activation=\"relu\",kernel_regularizer = l2(.001)))\n",
        "model.add(layers.Dropout(0.3))\n",
        "\n",
        "#3rd hidden layer\n",
        "model.add(layers.Dense(64,activation=\"relu\",kernel_regularizer = l2(.001)))\n",
        "model.add(layers.Dropout(0.3))\n",
        "\n",
        "model.add(layers.Dense(10,activation=\"softmax\")) #10 categories"
      ],
      "execution_count": null,
      "outputs": []
    },
    {
      "cell_type": "code",
      "metadata": {
        "id": "xuyhCKJNKfie"
      },
      "source": [
        "#Let's build the network\n",
        "from keras.optimizers import Adam\n",
        "\n",
        "optimizer = Adam(learning_rate=0.0001)\n",
        "model.compile(optimizer = optimizer,\n",
        "              loss = \"sparse_categorical_crossentropy\",\n",
        "              metrics = [\"accuracy\"])"
      ],
      "execution_count": null,
      "outputs": []
    },
    {
      "cell_type": "code",
      "metadata": {
        "id": "bGzi9BUvKzyC",
        "outputId": "f9f3547b-c21b-4592-864a-905fa2d1ba22",
        "colab": {
          "base_uri": "https://localhost:8080/"
        }
      },
      "source": [
        "model.summary()"
      ],
      "execution_count": null,
      "outputs": [
        {
          "output_type": "stream",
          "text": [
            "Model: \"sequential_3\"\n",
            "_________________________________________________________________\n",
            "Layer (type)                 Output Shape              Param #   \n",
            "=================================================================\n",
            "flatten_2 (Flatten)          (None, 1690)              0         \n",
            "_________________________________________________________________\n",
            "flatten_3 (Flatten)          (None, 1690)              0         \n",
            "_________________________________________________________________\n",
            "dense_8 (Dense)              (None, 512)               865792    \n",
            "_________________________________________________________________\n",
            "dropout (Dropout)            (None, 512)               0         \n",
            "_________________________________________________________________\n",
            "dense_9 (Dense)              (None, 256)               131328    \n",
            "_________________________________________________________________\n",
            "dropout_1 (Dropout)          (None, 256)               0         \n",
            "_________________________________________________________________\n",
            "dense_10 (Dense)             (None, 64)                16448     \n",
            "_________________________________________________________________\n",
            "dropout_2 (Dropout)          (None, 64)                0         \n",
            "_________________________________________________________________\n",
            "dense_11 (Dense)             (None, 10)                650       \n",
            "=================================================================\n",
            "Total params: 1,014,218\n",
            "Trainable params: 1,014,218\n",
            "Non-trainable params: 0\n",
            "_________________________________________________________________\n"
          ],
          "name": "stdout"
        }
      ]
    },
    {
      "cell_type": "markdown",
      "metadata": {
        "id": "4VRVSmpnMZm_"
      },
      "source": [
        "Let's train the network"
      ]
    },
    {
      "cell_type": "code",
      "metadata": {
        "id": "NbPsZJsQMWVq",
        "outputId": "ebe05c79-5a27-4023-f259-75a9789f9a9e",
        "colab": {
          "base_uri": "https://localhost:8080/"
        }
      },
      "source": [
        "history = model.fit(X_train,y_train,\n",
        "                    validation_data=(X_test,y_test),\n",
        "                    epochs = 100,batch_size=32)"
      ],
      "execution_count": null,
      "outputs": [
        {
          "output_type": "stream",
          "text": [
            "Epoch 1/100\n",
            "210/210 [==============================] - 4s 19ms/step - loss: 20.9990 - accuracy: 0.1601 - val_loss: 3.5214 - val_accuracy: 0.2470\n",
            "Epoch 2/100\n",
            "210/210 [==============================] - 4s 18ms/step - loss: 6.6278 - accuracy: 0.1599 - val_loss: 3.4219 - val_accuracy: 0.1813\n",
            "Epoch 3/100\n",
            "210/210 [==============================] - 4s 18ms/step - loss: 4.5611 - accuracy: 0.1456 - val_loss: 3.4702 - val_accuracy: 0.1485\n",
            "Epoch 4/100\n",
            "210/210 [==============================] - 4s 18ms/step - loss: 3.8800 - accuracy: 0.1359 - val_loss: 3.4712 - val_accuracy: 0.1367\n",
            "Epoch 5/100\n",
            "210/210 [==============================] - 4s 18ms/step - loss: 3.7107 - accuracy: 0.1456 - val_loss: 3.4450 - val_accuracy: 0.1597\n",
            "Epoch 6/100\n",
            "210/210 [==============================] - 4s 17ms/step - loss: 3.6098 - accuracy: 0.1471 - val_loss: 3.4155 - val_accuracy: 0.1628\n",
            "Epoch 7/100\n",
            "210/210 [==============================] - 4s 18ms/step - loss: 3.5391 - accuracy: 0.1669 - val_loss: 3.3735 - val_accuracy: 0.1813\n",
            "Epoch 8/100\n",
            "210/210 [==============================] - 4s 18ms/step - loss: 3.4819 - accuracy: 0.1799 - val_loss: 3.3410 - val_accuracy: 0.1898\n",
            "Epoch 9/100\n",
            "210/210 [==============================] - 4s 19ms/step - loss: 3.4441 - accuracy: 0.1871 - val_loss: 3.2930 - val_accuracy: 0.2131\n",
            "Epoch 10/100\n",
            "210/210 [==============================] - 4s 20ms/step - loss: 3.4126 - accuracy: 0.1946 - val_loss: 3.2914 - val_accuracy: 0.2137\n",
            "Epoch 11/100\n",
            "210/210 [==============================] - 4s 21ms/step - loss: 3.3720 - accuracy: 0.2047 - val_loss: 3.2841 - val_accuracy: 0.2182\n",
            "Epoch 12/100\n",
            "210/210 [==============================] - 4s 18ms/step - loss: 3.3277 - accuracy: 0.2123 - val_loss: 3.1870 - val_accuracy: 0.2492\n",
            "Epoch 13/100\n",
            "210/210 [==============================] - 4s 17ms/step - loss: 3.3000 - accuracy: 0.2226 - val_loss: 3.1595 - val_accuracy: 0.2546\n",
            "Epoch 14/100\n",
            "210/210 [==============================] - 4s 17ms/step - loss: 3.2828 - accuracy: 0.2252 - val_loss: 3.1722 - val_accuracy: 0.2480\n",
            "Epoch 15/100\n",
            "210/210 [==============================] - 4s 17ms/step - loss: 3.2618 - accuracy: 0.2262 - val_loss: 3.1479 - val_accuracy: 0.2504\n",
            "Epoch 16/100\n",
            "210/210 [==============================] - 4s 17ms/step - loss: 3.2315 - accuracy: 0.2362 - val_loss: 3.0974 - val_accuracy: 0.2664\n",
            "Epoch 17/100\n",
            "210/210 [==============================] - 4s 17ms/step - loss: 3.2058 - accuracy: 0.2468 - val_loss: 3.0738 - val_accuracy: 0.2728\n",
            "Epoch 18/100\n",
            "210/210 [==============================] - 4s 17ms/step - loss: 3.1839 - accuracy: 0.2535 - val_loss: 3.0487 - val_accuracy: 0.3086\n",
            "Epoch 19/100\n",
            "210/210 [==============================] - 4s 17ms/step - loss: 3.1487 - accuracy: 0.2630 - val_loss: 2.9834 - val_accuracy: 0.3322\n",
            "Epoch 20/100\n",
            "210/210 [==============================] - 4s 18ms/step - loss: 3.1191 - accuracy: 0.2658 - val_loss: 2.9872 - val_accuracy: 0.3225\n",
            "Epoch 21/100\n",
            "210/210 [==============================] - 4s 17ms/step - loss: 3.0774 - accuracy: 0.2765 - val_loss: 2.9363 - val_accuracy: 0.3301\n",
            "Epoch 22/100\n",
            "210/210 [==============================] - 4s 17ms/step - loss: 3.0505 - accuracy: 0.2916 - val_loss: 2.9104 - val_accuracy: 0.3468\n",
            "Epoch 23/100\n",
            "210/210 [==============================] - 4s 18ms/step - loss: 3.0260 - accuracy: 0.2886 - val_loss: 2.8373 - val_accuracy: 0.3543\n",
            "Epoch 24/100\n",
            "210/210 [==============================] - 4s 18ms/step - loss: 2.9728 - accuracy: 0.2989 - val_loss: 2.8282 - val_accuracy: 0.3537\n",
            "Epoch 25/100\n",
            "210/210 [==============================] - 4s 18ms/step - loss: 2.9154 - accuracy: 0.3063 - val_loss: 2.7828 - val_accuracy: 0.3547\n",
            "Epoch 26/100\n",
            "210/210 [==============================] - 3s 17ms/step - loss: 2.9257 - accuracy: 0.3089 - val_loss: 2.7325 - val_accuracy: 0.3689\n",
            "Epoch 27/100\n",
            "210/210 [==============================] - 3s 16ms/step - loss: 2.8650 - accuracy: 0.3133 - val_loss: 2.7043 - val_accuracy: 0.3598\n",
            "Epoch 28/100\n",
            "210/210 [==============================] - 3s 16ms/step - loss: 2.8123 - accuracy: 0.3240 - val_loss: 2.6936 - val_accuracy: 0.3747\n",
            "Epoch 29/100\n",
            "210/210 [==============================] - 3s 16ms/step - loss: 2.7910 - accuracy: 0.3361 - val_loss: 2.6471 - val_accuracy: 0.3686\n",
            "Epoch 30/100\n",
            "210/210 [==============================] - 3s 16ms/step - loss: 2.7631 - accuracy: 0.3267 - val_loss: 2.6366 - val_accuracy: 0.3859\n",
            "Epoch 31/100\n",
            "210/210 [==============================] - 3s 17ms/step - loss: 2.7341 - accuracy: 0.3306 - val_loss: 2.5892 - val_accuracy: 0.4004\n",
            "Epoch 32/100\n",
            "210/210 [==============================] - 4s 17ms/step - loss: 2.6955 - accuracy: 0.3455 - val_loss: 2.5615 - val_accuracy: 0.3868\n",
            "Epoch 33/100\n",
            "210/210 [==============================] - 3s 17ms/step - loss: 2.6630 - accuracy: 0.3528 - val_loss: 2.5201 - val_accuracy: 0.3919\n",
            "Epoch 34/100\n",
            "210/210 [==============================] - 3s 17ms/step - loss: 2.6207 - accuracy: 0.3511 - val_loss: 2.5145 - val_accuracy: 0.4168\n",
            "Epoch 35/100\n",
            "210/210 [==============================] - 4s 18ms/step - loss: 2.5986 - accuracy: 0.3700 - val_loss: 2.4682 - val_accuracy: 0.4207\n",
            "Epoch 36/100\n",
            "210/210 [==============================] - 3s 16ms/step - loss: 2.5548 - accuracy: 0.3672 - val_loss: 2.4445 - val_accuracy: 0.4174\n",
            "Epoch 37/100\n",
            "210/210 [==============================] - 4s 17ms/step - loss: 2.5225 - accuracy: 0.3751 - val_loss: 2.4255 - val_accuracy: 0.4238\n",
            "Epoch 38/100\n",
            "210/210 [==============================] - 4s 17ms/step - loss: 2.4836 - accuracy: 0.3885 - val_loss: 2.3749 - val_accuracy: 0.4107\n",
            "Epoch 39/100\n",
            "210/210 [==============================] - 3s 17ms/step - loss: 2.4415 - accuracy: 0.3903 - val_loss: 2.3674 - val_accuracy: 0.4065\n",
            "Epoch 40/100\n",
            "210/210 [==============================] - 4s 17ms/step - loss: 2.4253 - accuracy: 0.3897 - val_loss: 2.3304 - val_accuracy: 0.4507\n",
            "Epoch 41/100\n",
            "210/210 [==============================] - 4s 17ms/step - loss: 2.3871 - accuracy: 0.3993 - val_loss: 2.2889 - val_accuracy: 0.4429\n",
            "Epoch 42/100\n",
            "210/210 [==============================] - 3s 16ms/step - loss: 2.3594 - accuracy: 0.4066 - val_loss: 2.2726 - val_accuracy: 0.4377\n",
            "Epoch 43/100\n",
            "210/210 [==============================] - 3s 17ms/step - loss: 2.3118 - accuracy: 0.4130 - val_loss: 2.2323 - val_accuracy: 0.4735\n",
            "Epoch 44/100\n",
            "210/210 [==============================] - 4s 17ms/step - loss: 2.2971 - accuracy: 0.4160 - val_loss: 2.2005 - val_accuracy: 0.4732\n",
            "Epoch 45/100\n",
            "210/210 [==============================] - 4s 17ms/step - loss: 2.2470 - accuracy: 0.4315 - val_loss: 2.1720 - val_accuracy: 0.4701\n",
            "Epoch 46/100\n",
            "210/210 [==============================] - 4s 17ms/step - loss: 2.2096 - accuracy: 0.4387 - val_loss: 2.1505 - val_accuracy: 0.4811\n",
            "Epoch 47/100\n",
            "210/210 [==============================] - 4s 17ms/step - loss: 2.1782 - accuracy: 0.4506 - val_loss: 2.1229 - val_accuracy: 0.4732\n",
            "Epoch 48/100\n",
            "210/210 [==============================] - 4s 17ms/step - loss: 2.1512 - accuracy: 0.4441 - val_loss: 2.0964 - val_accuracy: 0.4823\n",
            "Epoch 49/100\n",
            "210/210 [==============================] - 4s 17ms/step - loss: 2.1169 - accuracy: 0.4459 - val_loss: 2.0893 - val_accuracy: 0.4786\n",
            "Epoch 50/100\n",
            "210/210 [==============================] - 4s 17ms/step - loss: 2.1084 - accuracy: 0.4506 - val_loss: 2.0894 - val_accuracy: 0.4804\n",
            "Epoch 51/100\n",
            "210/210 [==============================] - 4s 17ms/step - loss: 2.0732 - accuracy: 0.4554 - val_loss: 2.0328 - val_accuracy: 0.4877\n",
            "Epoch 52/100\n",
            "210/210 [==============================] - 3s 17ms/step - loss: 2.0343 - accuracy: 0.4618 - val_loss: 1.9924 - val_accuracy: 0.4898\n",
            "Epoch 53/100\n",
            "210/210 [==============================] - 4s 17ms/step - loss: 2.0019 - accuracy: 0.4750 - val_loss: 1.9969 - val_accuracy: 0.4962\n",
            "Epoch 54/100\n",
            "210/210 [==============================] - 4s 17ms/step - loss: 1.9645 - accuracy: 0.4820 - val_loss: 2.0125 - val_accuracy: 0.4765\n",
            "Epoch 55/100\n",
            "210/210 [==============================] - 3s 16ms/step - loss: 1.9409 - accuracy: 0.4763 - val_loss: 1.9627 - val_accuracy: 0.5114\n",
            "Epoch 56/100\n",
            "210/210 [==============================] - 3s 17ms/step - loss: 1.9183 - accuracy: 0.4884 - val_loss: 1.9439 - val_accuracy: 0.5059\n",
            "Epoch 57/100\n",
            "210/210 [==============================] - 4s 17ms/step - loss: 1.8976 - accuracy: 0.4953 - val_loss: 1.9377 - val_accuracy: 0.5086\n",
            "Epoch 58/100\n",
            "210/210 [==============================] - 3s 16ms/step - loss: 1.8951 - accuracy: 0.4972 - val_loss: 1.9634 - val_accuracy: 0.4898\n",
            "Epoch 59/100\n",
            "210/210 [==============================] - 4s 17ms/step - loss: 1.8462 - accuracy: 0.5052 - val_loss: 1.9298 - val_accuracy: 0.5083\n",
            "Epoch 60/100\n",
            "210/210 [==============================] - 4s 17ms/step - loss: 1.8115 - accuracy: 0.5165 - val_loss: 1.8825 - val_accuracy: 0.5099\n",
            "Epoch 61/100\n",
            "210/210 [==============================] - 3s 16ms/step - loss: 1.7929 - accuracy: 0.5180 - val_loss: 1.8949 - val_accuracy: 0.4883\n",
            "Epoch 62/100\n",
            "210/210 [==============================] - 3s 16ms/step - loss: 1.7497 - accuracy: 0.5271 - val_loss: 1.8843 - val_accuracy: 0.5299\n",
            "Epoch 63/100\n",
            "210/210 [==============================] - 3s 17ms/step - loss: 1.7298 - accuracy: 0.5332 - val_loss: 1.9244 - val_accuracy: 0.5138\n",
            "Epoch 64/100\n",
            "210/210 [==============================] - 3s 17ms/step - loss: 1.7214 - accuracy: 0.5374 - val_loss: 1.8389 - val_accuracy: 0.5332\n",
            "Epoch 65/100\n",
            "210/210 [==============================] - 4s 17ms/step - loss: 1.6883 - accuracy: 0.5465 - val_loss: 1.8747 - val_accuracy: 0.5293\n",
            "Epoch 66/100\n",
            "210/210 [==============================] - 3s 16ms/step - loss: 1.6667 - accuracy: 0.5526 - val_loss: 1.8248 - val_accuracy: 0.5320\n",
            "Epoch 67/100\n",
            "210/210 [==============================] - 4s 17ms/step - loss: 1.6600 - accuracy: 0.5555 - val_loss: 1.8748 - val_accuracy: 0.5305\n",
            "Epoch 68/100\n",
            "210/210 [==============================] - 4s 17ms/step - loss: 1.6318 - accuracy: 0.5604 - val_loss: 1.7900 - val_accuracy: 0.5311\n",
            "Epoch 69/100\n",
            "210/210 [==============================] - 4s 17ms/step - loss: 1.6037 - accuracy: 0.5646 - val_loss: 1.8038 - val_accuracy: 0.5196\n",
            "Epoch 70/100\n",
            "210/210 [==============================] - 4s 18ms/step - loss: 1.5987 - accuracy: 0.5729 - val_loss: 1.8288 - val_accuracy: 0.5386\n",
            "Epoch 71/100\n",
            "210/210 [==============================] - 4s 18ms/step - loss: 1.5789 - accuracy: 0.5725 - val_loss: 1.7997 - val_accuracy: 0.5468\n",
            "Epoch 72/100\n",
            "210/210 [==============================] - 4s 17ms/step - loss: 1.5468 - accuracy: 0.5841 - val_loss: 1.8145 - val_accuracy: 0.5405\n",
            "Epoch 73/100\n",
            "210/210 [==============================] - 4s 17ms/step - loss: 1.5229 - accuracy: 0.5955 - val_loss: 1.8406 - val_accuracy: 0.5483\n",
            "Epoch 74/100\n",
            "210/210 [==============================] - 4s 18ms/step - loss: 1.5041 - accuracy: 0.6049 - val_loss: 1.8094 - val_accuracy: 0.5411\n",
            "Epoch 75/100\n",
            "210/210 [==============================] - 4s 20ms/step - loss: 1.4805 - accuracy: 0.6047 - val_loss: 1.7890 - val_accuracy: 0.5386\n",
            "Epoch 76/100\n",
            "210/210 [==============================] - 4s 18ms/step - loss: 1.4563 - accuracy: 0.6013 - val_loss: 1.7420 - val_accuracy: 0.5490\n",
            "Epoch 77/100\n",
            "210/210 [==============================] - 3s 16ms/step - loss: 1.4479 - accuracy: 0.6125 - val_loss: 1.7535 - val_accuracy: 0.5505\n",
            "Epoch 78/100\n",
            "210/210 [==============================] - 4s 17ms/step - loss: 1.4430 - accuracy: 0.6080 - val_loss: 1.7893 - val_accuracy: 0.5614\n",
            "Epoch 79/100\n",
            "210/210 [==============================] - 4s 17ms/step - loss: 1.4259 - accuracy: 0.6222 - val_loss: 1.7574 - val_accuracy: 0.5553\n",
            "Epoch 80/100\n",
            "210/210 [==============================] - 4s 17ms/step - loss: 1.4104 - accuracy: 0.6212 - val_loss: 1.7732 - val_accuracy: 0.5411\n",
            "Epoch 81/100\n",
            "210/210 [==============================] - 4s 17ms/step - loss: 1.3855 - accuracy: 0.6215 - val_loss: 1.7721 - val_accuracy: 0.5571\n",
            "Epoch 82/100\n",
            "210/210 [==============================] - 4s 18ms/step - loss: 1.3627 - accuracy: 0.6427 - val_loss: 1.7470 - val_accuracy: 0.5608\n",
            "Epoch 83/100\n",
            "210/210 [==============================] - 4s 17ms/step - loss: 1.3658 - accuracy: 0.6397 - val_loss: 1.7446 - val_accuracy: 0.5511\n",
            "Epoch 84/100\n",
            "210/210 [==============================] - 4s 17ms/step - loss: 1.3243 - accuracy: 0.6500 - val_loss: 1.7488 - val_accuracy: 0.5559\n",
            "Epoch 85/100\n",
            "210/210 [==============================] - 4s 17ms/step - loss: 1.3105 - accuracy: 0.6551 - val_loss: 1.7389 - val_accuracy: 0.5568\n",
            "Epoch 86/100\n",
            "210/210 [==============================] - 4s 17ms/step - loss: 1.3149 - accuracy: 0.6549 - val_loss: 1.7520 - val_accuracy: 0.5565\n",
            "Epoch 87/100\n",
            "210/210 [==============================] - 4s 17ms/step - loss: 1.2694 - accuracy: 0.6733 - val_loss: 1.7672 - val_accuracy: 0.5750\n",
            "Epoch 88/100\n",
            "210/210 [==============================] - 4s 17ms/step - loss: 1.2578 - accuracy: 0.6704 - val_loss: 1.7798 - val_accuracy: 0.5632\n",
            "Epoch 89/100\n",
            "210/210 [==============================] - 4s 17ms/step - loss: 1.2683 - accuracy: 0.6594 - val_loss: 1.7595 - val_accuracy: 0.5768\n",
            "Epoch 90/100\n",
            "210/210 [==============================] - 4s 17ms/step - loss: 1.2277 - accuracy: 0.6790 - val_loss: 1.7804 - val_accuracy: 0.5790\n",
            "Epoch 91/100\n",
            "210/210 [==============================] - 4s 17ms/step - loss: 1.2208 - accuracy: 0.6818 - val_loss: 1.7291 - val_accuracy: 0.5732\n",
            "Epoch 92/100\n",
            "210/210 [==============================] - 4s 17ms/step - loss: 1.1869 - accuracy: 0.6885 - val_loss: 1.7330 - val_accuracy: 0.5875\n",
            "Epoch 93/100\n",
            "210/210 [==============================] - 4s 17ms/step - loss: 1.2105 - accuracy: 0.6855 - val_loss: 1.7183 - val_accuracy: 0.5835\n",
            "Epoch 94/100\n",
            "210/210 [==============================] - 4s 17ms/step - loss: 1.1824 - accuracy: 0.6937 - val_loss: 1.7352 - val_accuracy: 0.5844\n",
            "Epoch 95/100\n",
            "210/210 [==============================] - 4s 17ms/step - loss: 1.1705 - accuracy: 0.6915 - val_loss: 1.7685 - val_accuracy: 0.5699\n",
            "Epoch 96/100\n",
            "210/210 [==============================] - 4s 18ms/step - loss: 1.1612 - accuracy: 0.7046 - val_loss: 1.7418 - val_accuracy: 0.5835\n",
            "Epoch 97/100\n",
            "210/210 [==============================] - 4s 18ms/step - loss: 1.1816 - accuracy: 0.6876 - val_loss: 1.7669 - val_accuracy: 0.5856\n",
            "Epoch 98/100\n",
            "210/210 [==============================] - 4s 18ms/step - loss: 1.1228 - accuracy: 0.7084 - val_loss: 1.7989 - val_accuracy: 0.5778\n",
            "Epoch 99/100\n",
            "210/210 [==============================] - 3s 16ms/step - loss: 1.1350 - accuracy: 0.7072 - val_loss: 1.7949 - val_accuracy: 0.5820\n",
            "Epoch 100/100\n",
            "210/210 [==============================] - 3s 16ms/step - loss: 1.1205 - accuracy: 0.7215 - val_loss: 1.7611 - val_accuracy: 0.5756\n"
          ],
          "name": "stdout"
        }
      ]
    },
    {
      "cell_type": "markdown",
      "metadata": {
        "id": "knsLUux7Ns9z"
      },
      "source": [
        "If we compare the train accuracy vs test accuracy, then we observe that the model is overfitting. So we'll do some regularization or dropout to fix that."
      ]
    },
    {
      "cell_type": "code",
      "metadata": {
        "id": "fp16V6TXNIQg"
      },
      "source": [
        "def plot_history(history):\n",
        "  fig, axes = plt.subplots(2)\n",
        "\n",
        "  #accuracy plots\n",
        "  axes[0].plot(history.history[\"accuracy\"],label=\"train_accuracy\")\n",
        "  axes[0].plot(history.history[\"val_accuracy\"],label=\"test_accuracy\")\n",
        "  axes[0].set_ylabel(\"accuracy\")\n",
        "  axes[0].legend(loc=\"lower right\")\n",
        "  axes[0].set_title(\"Accuracy eval\")\n",
        "\n",
        "  #error plots\n",
        "  axes[1].plot(history.history[\"loss\"],label=\"train_error\")\n",
        "  axes[1].plot(history.history[\"val_loss\"],label=\"test_error\")\n",
        "  axes[1].set_ylabel(\"Error\")\n",
        "  axes[1].set_xlabel(\"Epoch\")\n",
        "  axes[1].legend(loc=\"upper right\")\n",
        "  axes[1].set_title(\"Error eval\")\n",
        "\n",
        "  plt.show()"
      ],
      "execution_count": null,
      "outputs": []
    },
    {
      "cell_type": "code",
      "metadata": {
        "id": "u-5Dk5CDRDJH",
        "outputId": "5b976033-264e-4d78-92c5-31b65f163e4a",
        "colab": {
          "base_uri": "https://localhost:8080/"
        }
      },
      "source": [
        "history = model.fit(X_train,y_train,\n",
        "                    validation_data=(X_test,y_test),\n",
        "                    epochs = 10,batch_size=32)"
      ],
      "execution_count": null,
      "outputs": [
        {
          "output_type": "stream",
          "text": [
            "Epoch 1/10\n",
            "210/210 [==============================] - 3s 12ms/step - loss: 8.6298 - accuracy: 0.3233 - val_loss: 4.4463 - val_accuracy: 0.3825\n",
            "Epoch 2/10\n",
            "210/210 [==============================] - 2s 11ms/step - loss: 3.3204 - accuracy: 0.4060 - val_loss: 2.5343 - val_accuracy: 0.3698\n",
            "Epoch 3/10\n",
            "210/210 [==============================] - 2s 11ms/step - loss: 1.8776 - accuracy: 0.4082 - val_loss: 2.2645 - val_accuracy: 0.3853\n",
            "Epoch 4/10\n",
            "210/210 [==============================] - 2s 12ms/step - loss: 1.5733 - accuracy: 0.4684 - val_loss: 2.0165 - val_accuracy: 0.4122\n",
            "Epoch 5/10\n",
            "210/210 [==============================] - 2s 11ms/step - loss: 1.4236 - accuracy: 0.5161 - val_loss: 1.9315 - val_accuracy: 0.4241\n",
            "Epoch 6/10\n",
            "210/210 [==============================] - 2s 12ms/step - loss: 1.2991 - accuracy: 0.5525 - val_loss: 1.9734 - val_accuracy: 0.4544\n",
            "Epoch 7/10\n",
            "210/210 [==============================] - 2s 11ms/step - loss: 1.1989 - accuracy: 0.5822 - val_loss: 1.9505 - val_accuracy: 0.4286\n",
            "Epoch 8/10\n",
            "210/210 [==============================] - 2s 12ms/step - loss: 1.0963 - accuracy: 0.6236 - val_loss: 1.8268 - val_accuracy: 0.4614\n",
            "Epoch 9/10\n",
            "210/210 [==============================] - 3s 12ms/step - loss: 1.0452 - accuracy: 0.6319 - val_loss: 1.9241 - val_accuracy: 0.4723\n",
            "Epoch 10/10\n",
            "210/210 [==============================] - 2s 12ms/step - loss: 0.9684 - accuracy: 0.6537 - val_loss: 1.9056 - val_accuracy: 0.4741\n"
          ],
          "name": "stdout"
        }
      ]
    },
    {
      "cell_type": "code",
      "metadata": {
        "id": "DluCi7CKReD9",
        "outputId": "4d1940dd-1c57-4235-d4d1-1a3d3cc3a48d",
        "colab": {
          "base_uri": "https://localhost:8080/",
          "height": 295
        }
      },
      "source": [
        "plot_history(history)"
      ],
      "execution_count": null,
      "outputs": [
        {
          "output_type": "display_data",
          "data": {
            "image/png": "[encoded data removed]",
            "text/plain": [
              "<Figure size 432x288 with 2 Axes>"
            ]
          },
          "metadata": {
            "tags": [],
            "needs_background": "light"
          }
        }
      ]
    },
    {
      "cell_type": "code",
      "metadata": {
        "id": "Tv1ZygIHRrDh"
      },
      "source": [
        ""
      ],
      "execution_count": null,
      "outputs": []
    }
  ]
}